{
 "cells": [
  {
   "cell_type": "code",
   "execution_count": 39,
   "metadata": {},
   "outputs": [],
   "source": [
    "from ucimlrepo import fetch_ucirepo \n",
    "import pandas as pd\n",
    "import matplotlib.pyplot as plt\n",
    "import seaborn as sns"
   ]
  },
  {
   "cell_type": "markdown",
   "metadata": {},
   "source": [
    "Provided you have internet connection, the dataset can be downloaded by running the cell below, where we make use of the *ucimlrepo* Python package specifically developed for importing datasets from the UC Irvine Machine Learning Repository into scripts and notebooks. Alternatively, you can find the dataset, without any additional information (metadata/further descriptions of variables) at the following link: [<span style=\"color:light blue; font-weight:bold;\">dataset</span>](https://archive.ics.uci.edu/static/public/913/data.csv). For a thorough understanding of the task, you can read moore details on the variables in the dataset here: [<span style=\"color:light blue; font-weight:bold;\">variables detailed description</span>](https://editorapantanal.com.br/journal/index.php/taes/article/view/8/5)"
   ]
  },
  {
   "cell_type": "code",
   "execution_count": 3,
   "metadata": {},
   "outputs": [],
   "source": [
    "# fetch dataset \n",
    "dataset = fetch_ucirepo(id=913)"
   ]
  },
  {
   "cell_type": "markdown",
   "metadata": {},
   "source": [
    "The dataset as it is will be a special dictionary, of type *ucimlrepo.dotdict.dotdict* containing the dataset as dataframes, as well as metadata about the dataset."
   ]
  },
  {
   "cell_type": "code",
   "execution_count": 4,
   "metadata": {},
   "outputs": [
    {
     "data": {
      "text/plain": [
       "ucimlrepo.dotdict.dotdict"
      ]
     },
     "execution_count": 4,
     "metadata": {},
     "output_type": "execute_result"
    }
   ],
   "source": [
    "type(dataset)"
   ]
  },
  {
   "cell_type": "markdown",
   "metadata": {},
   "source": [
    "As per the documentation ([<span style=\"color:light blue; font-weight:bold;\">ucimlrepo docs</span>](https://github.com/uci-ml-repo/ucimlrepo)), the dataset can be accessed through the *data.features* attribute. You can also check the metadata, as well as variables descriptions, through separate accessors."
   ]
  },
  {
   "cell_type": "code",
   "execution_count": 5,
   "metadata": {},
   "outputs": [],
   "source": [
    "X = dataset.data.features"
   ]
  },
  {
   "cell_type": "code",
   "execution_count": 6,
   "metadata": {},
   "outputs": [
    {
     "data": {
      "text/html": [
       "<div>\n",
       "<style scoped>\n",
       "    .dataframe tbody tr th:only-of-type {\n",
       "        vertical-align: middle;\n",
       "    }\n",
       "\n",
       "    .dataframe tbody tr th {\n",
       "        vertical-align: top;\n",
       "    }\n",
       "\n",
       "    .dataframe thead th {\n",
       "        text-align: right;\n",
       "    }\n",
       "</style>\n",
       "<table border=\"1\" class=\"dataframe\">\n",
       "  <thead>\n",
       "    <tr style=\"text-align: right;\">\n",
       "      <th></th>\n",
       "      <th>Season</th>\n",
       "      <th>Cultivar</th>\n",
       "      <th>Repetition</th>\n",
       "      <th>PH</th>\n",
       "      <th>IFP</th>\n",
       "      <th>NLP</th>\n",
       "      <th>NGP</th>\n",
       "      <th>NGL</th>\n",
       "      <th>NS</th>\n",
       "      <th>MHG</th>\n",
       "      <th>GY</th>\n",
       "    </tr>\n",
       "  </thead>\n",
       "  <tbody>\n",
       "    <tr>\n",
       "      <th>0</th>\n",
       "      <td>1</td>\n",
       "      <td>NEO 760 CE</td>\n",
       "      <td>1</td>\n",
       "      <td>58.80</td>\n",
       "      <td>15.20</td>\n",
       "      <td>98.20</td>\n",
       "      <td>177.80</td>\n",
       "      <td>1.81</td>\n",
       "      <td>5.20</td>\n",
       "      <td>152.20</td>\n",
       "      <td>3232.820000</td>\n",
       "    </tr>\n",
       "    <tr>\n",
       "      <th>1</th>\n",
       "      <td>1</td>\n",
       "      <td>NEO 760 CE</td>\n",
       "      <td>2</td>\n",
       "      <td>58.60</td>\n",
       "      <td>13.40</td>\n",
       "      <td>102.00</td>\n",
       "      <td>195.00</td>\n",
       "      <td>1.85</td>\n",
       "      <td>7.20</td>\n",
       "      <td>141.69</td>\n",
       "      <td>3517.360000</td>\n",
       "    </tr>\n",
       "    <tr>\n",
       "      <th>2</th>\n",
       "      <td>1</td>\n",
       "      <td>NEO 760 CE</td>\n",
       "      <td>3</td>\n",
       "      <td>63.40</td>\n",
       "      <td>17.20</td>\n",
       "      <td>100.40</td>\n",
       "      <td>203.00</td>\n",
       "      <td>2.02</td>\n",
       "      <td>6.80</td>\n",
       "      <td>148.81</td>\n",
       "      <td>3391.460000</td>\n",
       "    </tr>\n",
       "    <tr>\n",
       "      <th>3</th>\n",
       "      <td>1</td>\n",
       "      <td>NEO 760 CE</td>\n",
       "      <td>4</td>\n",
       "      <td>60.27</td>\n",
       "      <td>15.27</td>\n",
       "      <td>100.20</td>\n",
       "      <td>191.93</td>\n",
       "      <td>1.89</td>\n",
       "      <td>6.40</td>\n",
       "      <td>148.50</td>\n",
       "      <td>3312.580000</td>\n",
       "    </tr>\n",
       "    <tr>\n",
       "      <th>4</th>\n",
       "      <td>1</td>\n",
       "      <td>MANU IPRO</td>\n",
       "      <td>1</td>\n",
       "      <td>81.20</td>\n",
       "      <td>18.00</td>\n",
       "      <td>98.80</td>\n",
       "      <td>173.00</td>\n",
       "      <td>1.75</td>\n",
       "      <td>7.40</td>\n",
       "      <td>145.59</td>\n",
       "      <td>3230.990000</td>\n",
       "    </tr>\n",
       "    <tr>\n",
       "      <th>...</th>\n",
       "      <td>...</td>\n",
       "      <td>...</td>\n",
       "      <td>...</td>\n",
       "      <td>...</td>\n",
       "      <td>...</td>\n",
       "      <td>...</td>\n",
       "      <td>...</td>\n",
       "      <td>...</td>\n",
       "      <td>...</td>\n",
       "      <td>...</td>\n",
       "      <td>...</td>\n",
       "    </tr>\n",
       "    <tr>\n",
       "      <th>315</th>\n",
       "      <td>2</td>\n",
       "      <td>FTR 4288 IPRO</td>\n",
       "      <td>4</td>\n",
       "      <td>88.33</td>\n",
       "      <td>16.33</td>\n",
       "      <td>75.73</td>\n",
       "      <td>139.00</td>\n",
       "      <td>1.84</td>\n",
       "      <td>3.67</td>\n",
       "      <td>135.19</td>\n",
       "      <td>3348.931034</td>\n",
       "    </tr>\n",
       "    <tr>\n",
       "      <th>316</th>\n",
       "      <td>2</td>\n",
       "      <td>FTR 3190 IPRO</td>\n",
       "      <td>1</td>\n",
       "      <td>64.40</td>\n",
       "      <td>16.60</td>\n",
       "      <td>76.00</td>\n",
       "      <td>168.00</td>\n",
       "      <td>2.21</td>\n",
       "      <td>3.60</td>\n",
       "      <td>145.69</td>\n",
       "      <td>3418.850575</td>\n",
       "    </tr>\n",
       "    <tr>\n",
       "      <th>317</th>\n",
       "      <td>2</td>\n",
       "      <td>FTR 3190 IPRO</td>\n",
       "      <td>2</td>\n",
       "      <td>64.60</td>\n",
       "      <td>17.60</td>\n",
       "      <td>116.80</td>\n",
       "      <td>271.20</td>\n",
       "      <td>2.32</td>\n",
       "      <td>3.80</td>\n",
       "      <td>147.24</td>\n",
       "      <td>3651.586207</td>\n",
       "    </tr>\n",
       "    <tr>\n",
       "      <th>318</th>\n",
       "      <td>2</td>\n",
       "      <td>FTR 3190 IPRO</td>\n",
       "      <td>3</td>\n",
       "      <td>58.80</td>\n",
       "      <td>14.80</td>\n",
       "      <td>86.40</td>\n",
       "      <td>180.60</td>\n",
       "      <td>2.09</td>\n",
       "      <td>2.20</td>\n",
       "      <td>156.32</td>\n",
       "      <td>3487.931034</td>\n",
       "    </tr>\n",
       "    <tr>\n",
       "      <th>319</th>\n",
       "      <td>2</td>\n",
       "      <td>FTR 3190 IPRO</td>\n",
       "      <td>4</td>\n",
       "      <td>62.60</td>\n",
       "      <td>16.33</td>\n",
       "      <td>93.07</td>\n",
       "      <td>206.60</td>\n",
       "      <td>2.21</td>\n",
       "      <td>3.20</td>\n",
       "      <td>157.61</td>\n",
       "      <td>3605.310345</td>\n",
       "    </tr>\n",
       "  </tbody>\n",
       "</table>\n",
       "<p>320 rows × 11 columns</p>\n",
       "</div>"
      ],
      "text/plain": [
       "     Season       Cultivar  Repetition     PH    IFP     NLP     NGP   NGL  \\\n",
       "0         1     NEO 760 CE           1  58.80  15.20   98.20  177.80  1.81   \n",
       "1         1     NEO 760 CE           2  58.60  13.40  102.00  195.00  1.85   \n",
       "2         1     NEO 760 CE           3  63.40  17.20  100.40  203.00  2.02   \n",
       "3         1     NEO 760 CE           4  60.27  15.27  100.20  191.93  1.89   \n",
       "4         1      MANU IPRO           1  81.20  18.00   98.80  173.00  1.75   \n",
       "..      ...            ...         ...    ...    ...     ...     ...   ...   \n",
       "315       2  FTR 4288 IPRO           4  88.33  16.33   75.73  139.00  1.84   \n",
       "316       2  FTR 3190 IPRO           1  64.40  16.60   76.00  168.00  2.21   \n",
       "317       2  FTR 3190 IPRO           2  64.60  17.60  116.80  271.20  2.32   \n",
       "318       2  FTR 3190 IPRO           3  58.80  14.80   86.40  180.60  2.09   \n",
       "319       2  FTR 3190 IPRO           4  62.60  16.33   93.07  206.60  2.21   \n",
       "\n",
       "       NS     MHG           GY  \n",
       "0    5.20  152.20  3232.820000  \n",
       "1    7.20  141.69  3517.360000  \n",
       "2    6.80  148.81  3391.460000  \n",
       "3    6.40  148.50  3312.580000  \n",
       "4    7.40  145.59  3230.990000  \n",
       "..    ...     ...          ...  \n",
       "315  3.67  135.19  3348.931034  \n",
       "316  3.60  145.69  3418.850575  \n",
       "317  3.80  147.24  3651.586207  \n",
       "318  2.20  156.32  3487.931034  \n",
       "319  3.20  157.61  3605.310345  \n",
       "\n",
       "[320 rows x 11 columns]"
      ]
     },
     "execution_count": 6,
     "metadata": {},
     "output_type": "execute_result"
    }
   ],
   "source": [
    "X"
   ]
  },
  {
   "cell_type": "code",
   "execution_count": 7,
   "metadata": {},
   "outputs": [
    {
     "data": {
      "text/plain": [
       "{'uci_id': 913,\n",
       " 'name': 'Forty Soybean Cultivars from Subsequent Harvests',\n",
       " 'repository_url': 'https://archive.ics.uci.edu/dataset/913/forty+soybean+cultivars+from+subsequent+harvests',\n",
       " 'data_url': 'https://archive.ics.uci.edu/static/public/913/data.csv',\n",
       " 'abstract': 'Soybean cultivation is one of the most important because it is used in several segments of the food industry. The evaluation of soybean cultivars subject to different planting and harvesting characteristics is an ongoing field of research. We present a dataset obtained from forty soybean cultivars planted in subsequent seasons. The experiment used randomized blocks, arranged in a split-plot scheme, with four replications. The following variables were collected: plant height, insertion of the first pod, number of stems, number of legumes per plant, number of grains per pod, thousand seed weight, and grain yield, resulting in 320 data samples. The dataset presented can be used by researchers from different fields of activity.',\n",
       " 'area': 'Other',\n",
       " 'tasks': ['Classification', 'Regression', 'Clustering', 'Other'],\n",
       " 'characteristics': ['Tabular'],\n",
       " 'num_instances': 320,\n",
       " 'num_features': 11,\n",
       " 'feature_types': ['Real', 'Categorical', 'Integer'],\n",
       " 'demographics': [],\n",
       " 'target_col': None,\n",
       " 'index_col': None,\n",
       " 'has_missing_values': 'no',\n",
       " 'missing_values_symbol': None,\n",
       " 'year_of_dataset_creation': 2023,\n",
       " 'last_updated': 'Fri Mar 08 2024',\n",
       " 'dataset_doi': '10.46420/TAES.e230005',\n",
       " 'creators': ['Bruno  Rodrigues de Oliveira', 'Alan  Mario Zuffo'],\n",
       " 'intro_paper': {'title': 'Forty soybean cultivars from subsequent harvests',\n",
       "  'authors': 'Bruno Rodrigues de Oliveira, Alan Mario Zuffo, Francisco Charles dos Santos Silva, Ricardo Mezzomo, Leandra Matos Barrozo, Tatiane Scilewski da Costa Zanatta, Joel Cabral dos Santos, Carlos Henrique Conceição Sousa, Yago Pinto Coelho',\n",
       "  'published_in': 'Balsas, MA, Brazil',\n",
       "  'year': 2023,\n",
       "  'url': 'https://editorapantanal.com.br/journal/index.php/taes/article/view/8/5',\n",
       "  'doi': '10.46420/TAES.e230005'},\n",
       " 'additional_info': {'summary': 'More details about the dataset can be found in the published article: https://editorapantanal.com.br/journal/index.php/taes/article/view/8/5',\n",
       "  'purpose': 'To study soybean cultivars harvested in subsequent seasons.',\n",
       "  'funded_by': 'There was no cash financing, but support for carrying out the experiments by Accert Pesquisa e Consultoria Agronomia, located in Balsas, Maranhão, Brazil.',\n",
       "  'instances_represent': 'The average values of 10 plants per plot at harvest (phase R8).',\n",
       "  'recommended_data_splits': 'We recommend that stratified cross-validation be applied, so that the same cultivar does not appear in the training and test sets simultaneously.',\n",
       "  'sensitive_data': 'No data is confidential',\n",
       "  'preprocessing_description': 'The data presented is raw data',\n",
       "  'variable_info': None,\n",
       "  'citation': 'The authors would like to thank “Accert Pesquisa e Consultoria Agronomia” for availability of the experimental area.'}}"
      ]
     },
     "execution_count": 7,
     "metadata": {},
     "output_type": "execute_result"
    }
   ],
   "source": [
    "dataset.metadata"
   ]
  },
  {
   "cell_type": "code",
   "execution_count": 8,
   "metadata": {},
   "outputs": [
    {
     "data": {
      "text/html": [
       "<div>\n",
       "<style scoped>\n",
       "    .dataframe tbody tr th:only-of-type {\n",
       "        vertical-align: middle;\n",
       "    }\n",
       "\n",
       "    .dataframe tbody tr th {\n",
       "        vertical-align: top;\n",
       "    }\n",
       "\n",
       "    .dataframe thead th {\n",
       "        text-align: right;\n",
       "    }\n",
       "</style>\n",
       "<table border=\"1\" class=\"dataframe\">\n",
       "  <thead>\n",
       "    <tr style=\"text-align: right;\">\n",
       "      <th></th>\n",
       "      <th>name</th>\n",
       "      <th>role</th>\n",
       "      <th>type</th>\n",
       "      <th>demographic</th>\n",
       "      <th>description</th>\n",
       "      <th>units</th>\n",
       "      <th>missing_values</th>\n",
       "    </tr>\n",
       "  </thead>\n",
       "  <tbody>\n",
       "    <tr>\n",
       "      <th>0</th>\n",
       "      <td>Season</td>\n",
       "      <td>Feature</td>\n",
       "      <td>Integer</td>\n",
       "      <td>None</td>\n",
       "      <td>1 or 2</td>\n",
       "      <td>None</td>\n",
       "      <td>no</td>\n",
       "    </tr>\n",
       "    <tr>\n",
       "      <th>1</th>\n",
       "      <td>Cultivar</td>\n",
       "      <td>Feature</td>\n",
       "      <td>Categorical</td>\n",
       "      <td>None</td>\n",
       "      <td>Cultivar names</td>\n",
       "      <td>None</td>\n",
       "      <td>no</td>\n",
       "    </tr>\n",
       "    <tr>\n",
       "      <th>2</th>\n",
       "      <td>Repetition</td>\n",
       "      <td>Feature</td>\n",
       "      <td>Integer</td>\n",
       "      <td>None</td>\n",
       "      <td>1, 2, 3 or 4</td>\n",
       "      <td>None</td>\n",
       "      <td>no</td>\n",
       "    </tr>\n",
       "    <tr>\n",
       "      <th>3</th>\n",
       "      <td>PH</td>\n",
       "      <td>Feature</td>\n",
       "      <td>Continuous</td>\n",
       "      <td>None</td>\n",
       "      <td>plant height (cm) – determined from the soil s...</td>\n",
       "      <td>cm</td>\n",
       "      <td>no</td>\n",
       "    </tr>\n",
       "    <tr>\n",
       "      <th>4</th>\n",
       "      <td>IFP</td>\n",
       "      <td>Feature</td>\n",
       "      <td>Continuous</td>\n",
       "      <td>None</td>\n",
       "      <td>insertion of the first pod (cm) – determined f...</td>\n",
       "      <td>cm</td>\n",
       "      <td>no</td>\n",
       "    </tr>\n",
       "    <tr>\n",
       "      <th>5</th>\n",
       "      <td>NLP</td>\n",
       "      <td>Feature</td>\n",
       "      <td>Continuous</td>\n",
       "      <td>None</td>\n",
       "      <td>Number of stems (unit) – through manual counting;</td>\n",
       "      <td>None</td>\n",
       "      <td>no</td>\n",
       "    </tr>\n",
       "    <tr>\n",
       "      <th>6</th>\n",
       "      <td>NGP</td>\n",
       "      <td>Feature</td>\n",
       "      <td>Continuous</td>\n",
       "      <td>None</td>\n",
       "      <td>Number of legumes per plant (unit) – through m...</td>\n",
       "      <td>None</td>\n",
       "      <td>no</td>\n",
       "    </tr>\n",
       "    <tr>\n",
       "      <th>7</th>\n",
       "      <td>NGL</td>\n",
       "      <td>Feature</td>\n",
       "      <td>Continuous</td>\n",
       "      <td>None</td>\n",
       "      <td>Number of grains per plant (unit) – through ma...</td>\n",
       "      <td>None</td>\n",
       "      <td>no</td>\n",
       "    </tr>\n",
       "    <tr>\n",
       "      <th>8</th>\n",
       "      <td>NS</td>\n",
       "      <td>Feature</td>\n",
       "      <td>Continuous</td>\n",
       "      <td>None</td>\n",
       "      <td>Number of grains per pod (unit) – through manu...</td>\n",
       "      <td>None</td>\n",
       "      <td>no</td>\n",
       "    </tr>\n",
       "    <tr>\n",
       "      <th>9</th>\n",
       "      <td>MHG</td>\n",
       "      <td>Feature</td>\n",
       "      <td>Continuous</td>\n",
       "      <td>None</td>\n",
       "      <td>Thousand seed weight (g) – according to the me...</td>\n",
       "      <td>g</td>\n",
       "      <td>no</td>\n",
       "    </tr>\n",
       "    <tr>\n",
       "      <th>10</th>\n",
       "      <td>GY</td>\n",
       "      <td>Feature</td>\n",
       "      <td>Continuous</td>\n",
       "      <td>None</td>\n",
       "      <td>Grain yield (kg ha-1) – determined by harvesti...</td>\n",
       "      <td>kg/ha</td>\n",
       "      <td>no</td>\n",
       "    </tr>\n",
       "  </tbody>\n",
       "</table>\n",
       "</div>"
      ],
      "text/plain": [
       "          name     role         type demographic  \\\n",
       "0       Season  Feature      Integer        None   \n",
       "1     Cultivar  Feature  Categorical        None   \n",
       "2   Repetition  Feature      Integer        None   \n",
       "3           PH  Feature   Continuous        None   \n",
       "4          IFP  Feature   Continuous        None   \n",
       "5          NLP  Feature   Continuous        None   \n",
       "6          NGP  Feature   Continuous        None   \n",
       "7          NGL  Feature   Continuous        None   \n",
       "8           NS  Feature   Continuous        None   \n",
       "9          MHG  Feature   Continuous        None   \n",
       "10          GY  Feature   Continuous        None   \n",
       "\n",
       "                                          description  units missing_values  \n",
       "0                                              1 or 2   None             no  \n",
       "1                                      Cultivar names   None             no  \n",
       "2                                        1, 2, 3 or 4   None             no  \n",
       "3   plant height (cm) – determined from the soil s...     cm             no  \n",
       "4   insertion of the first pod (cm) – determined f...     cm             no  \n",
       "5   Number of stems (unit) – through manual counting;   None             no  \n",
       "6   Number of legumes per plant (unit) – through m...   None             no  \n",
       "7   Number of grains per plant (unit) – through ma...   None             no  \n",
       "8   Number of grains per pod (unit) – through manu...   None             no  \n",
       "9   Thousand seed weight (g) – according to the me...      g             no  \n",
       "10  Grain yield (kg ha-1) – determined by harvesti...  kg/ha             no  "
      ]
     },
     "execution_count": 8,
     "metadata": {},
     "output_type": "execute_result"
    }
   ],
   "source": [
    "dataset.variables"
   ]
  },
  {
   "cell_type": "markdown",
   "metadata": {},
   "source": [
    "**Preliminary analysis of the dataset**"
   ]
  },
  {
   "cell_type": "markdown",
   "metadata": {},
   "source": [
    "A high-level description of the numerical columns: basic statistics"
   ]
  },
  {
   "cell_type": "code",
   "execution_count": 10,
   "metadata": {},
   "outputs": [
    {
     "data": {
      "text/html": [
       "<div>\n",
       "<style scoped>\n",
       "    .dataframe tbody tr th:only-of-type {\n",
       "        vertical-align: middle;\n",
       "    }\n",
       "\n",
       "    .dataframe tbody tr th {\n",
       "        vertical-align: top;\n",
       "    }\n",
       "\n",
       "    .dataframe thead th {\n",
       "        text-align: right;\n",
       "    }\n",
       "</style>\n",
       "<table border=\"1\" class=\"dataframe\">\n",
       "  <thead>\n",
       "    <tr style=\"text-align: right;\">\n",
       "      <th></th>\n",
       "      <th>Season</th>\n",
       "      <th>Repetition</th>\n",
       "      <th>PH</th>\n",
       "      <th>IFP</th>\n",
       "      <th>NLP</th>\n",
       "      <th>NGP</th>\n",
       "      <th>NGL</th>\n",
       "      <th>NS</th>\n",
       "      <th>MHG</th>\n",
       "      <th>GY</th>\n",
       "    </tr>\n",
       "  </thead>\n",
       "  <tbody>\n",
       "    <tr>\n",
       "      <th>count</th>\n",
       "      <td>320.000000</td>\n",
       "      <td>320.000000</td>\n",
       "      <td>320.000000</td>\n",
       "      <td>320.0000</td>\n",
       "      <td>320.000000</td>\n",
       "      <td>320.000000</td>\n",
       "      <td>320.000000</td>\n",
       "      <td>320.000000</td>\n",
       "      <td>320.000000</td>\n",
       "      <td>320.000000</td>\n",
       "    </tr>\n",
       "    <tr>\n",
       "      <th>mean</th>\n",
       "      <td>1.500000</td>\n",
       "      <td>2.500000</td>\n",
       "      <td>68.386781</td>\n",
       "      <td>15.4650</td>\n",
       "      <td>59.088313</td>\n",
       "      <td>135.085844</td>\n",
       "      <td>2.290844</td>\n",
       "      <td>4.071656</td>\n",
       "      <td>168.322313</td>\n",
       "      <td>3418.553794</td>\n",
       "    </tr>\n",
       "    <tr>\n",
       "      <th>std</th>\n",
       "      <td>0.500783</td>\n",
       "      <td>1.119785</td>\n",
       "      <td>8.958194</td>\n",
       "      <td>3.0243</td>\n",
       "      <td>20.068187</td>\n",
       "      <td>60.494529</td>\n",
       "      <td>0.840116</td>\n",
       "      <td>1.474531</td>\n",
       "      <td>19.625566</td>\n",
       "      <td>503.003602</td>\n",
       "    </tr>\n",
       "    <tr>\n",
       "      <th>min</th>\n",
       "      <td>1.000000</td>\n",
       "      <td>1.000000</td>\n",
       "      <td>47.600000</td>\n",
       "      <td>7.2000</td>\n",
       "      <td>20.200000</td>\n",
       "      <td>47.800000</td>\n",
       "      <td>0.940000</td>\n",
       "      <td>0.400000</td>\n",
       "      <td>127.060000</td>\n",
       "      <td>1538.230000</td>\n",
       "    </tr>\n",
       "    <tr>\n",
       "      <th>25%</th>\n",
       "      <td>1.000000</td>\n",
       "      <td>1.750000</td>\n",
       "      <td>62.950000</td>\n",
       "      <td>13.6000</td>\n",
       "      <td>44.350000</td>\n",
       "      <td>95.052500</td>\n",
       "      <td>2.000000</td>\n",
       "      <td>3.000000</td>\n",
       "      <td>153.845000</td>\n",
       "      <td>3126.611552</td>\n",
       "    </tr>\n",
       "    <tr>\n",
       "      <th>50%</th>\n",
       "      <td>1.500000</td>\n",
       "      <td>2.500000</td>\n",
       "      <td>67.200000</td>\n",
       "      <td>15.6000</td>\n",
       "      <td>54.500000</td>\n",
       "      <td>123.000000</td>\n",
       "      <td>2.280000</td>\n",
       "      <td>3.800000</td>\n",
       "      <td>166.150000</td>\n",
       "      <td>3397.276724</td>\n",
       "    </tr>\n",
       "    <tr>\n",
       "      <th>75%</th>\n",
       "      <td>2.000000</td>\n",
       "      <td>3.250000</td>\n",
       "      <td>74.347500</td>\n",
       "      <td>17.3300</td>\n",
       "      <td>71.220000</td>\n",
       "      <td>161.350000</td>\n",
       "      <td>2.480000</td>\n",
       "      <td>5.000000</td>\n",
       "      <td>183.182500</td>\n",
       "      <td>3708.262931</td>\n",
       "    </tr>\n",
       "    <tr>\n",
       "      <th>max</th>\n",
       "      <td>2.000000</td>\n",
       "      <td>4.000000</td>\n",
       "      <td>94.800000</td>\n",
       "      <td>26.4000</td>\n",
       "      <td>123.000000</td>\n",
       "      <td>683.400000</td>\n",
       "      <td>14.860000</td>\n",
       "      <td>9.000000</td>\n",
       "      <td>216.000000</td>\n",
       "      <td>4930.000000</td>\n",
       "    </tr>\n",
       "  </tbody>\n",
       "</table>\n",
       "</div>"
      ],
      "text/plain": [
       "           Season  Repetition          PH       IFP         NLP         NGP  \\\n",
       "count  320.000000  320.000000  320.000000  320.0000  320.000000  320.000000   \n",
       "mean     1.500000    2.500000   68.386781   15.4650   59.088313  135.085844   \n",
       "std      0.500783    1.119785    8.958194    3.0243   20.068187   60.494529   \n",
       "min      1.000000    1.000000   47.600000    7.2000   20.200000   47.800000   \n",
       "25%      1.000000    1.750000   62.950000   13.6000   44.350000   95.052500   \n",
       "50%      1.500000    2.500000   67.200000   15.6000   54.500000  123.000000   \n",
       "75%      2.000000    3.250000   74.347500   17.3300   71.220000  161.350000   \n",
       "max      2.000000    4.000000   94.800000   26.4000  123.000000  683.400000   \n",
       "\n",
       "              NGL          NS         MHG           GY  \n",
       "count  320.000000  320.000000  320.000000   320.000000  \n",
       "mean     2.290844    4.071656  168.322313  3418.553794  \n",
       "std      0.840116    1.474531   19.625566   503.003602  \n",
       "min      0.940000    0.400000  127.060000  1538.230000  \n",
       "25%      2.000000    3.000000  153.845000  3126.611552  \n",
       "50%      2.280000    3.800000  166.150000  3397.276724  \n",
       "75%      2.480000    5.000000  183.182500  3708.262931  \n",
       "max     14.860000    9.000000  216.000000  4930.000000  "
      ]
     },
     "execution_count": 10,
     "metadata": {},
     "output_type": "execute_result"
    }
   ],
   "source": [
    "X.describe()"
   ]
  },
  {
   "cell_type": "markdown",
   "metadata": {},
   "source": [
    "Some more information: data types per column, number of non-null values"
   ]
  },
  {
   "cell_type": "code",
   "execution_count": 12,
   "metadata": {},
   "outputs": [
    {
     "name": "stdout",
     "output_type": "stream",
     "text": [
      "<class 'pandas.core.frame.DataFrame'>\n",
      "RangeIndex: 320 entries, 0 to 319\n",
      "Data columns (total 11 columns):\n",
      " #   Column      Non-Null Count  Dtype  \n",
      "---  ------      --------------  -----  \n",
      " 0   Season      320 non-null    int64  \n",
      " 1   Cultivar    320 non-null    object \n",
      " 2   Repetition  320 non-null    int64  \n",
      " 3   PH          320 non-null    float64\n",
      " 4   IFP         320 non-null    float64\n",
      " 5   NLP         320 non-null    float64\n",
      " 6   NGP         320 non-null    float64\n",
      " 7   NGL         320 non-null    float64\n",
      " 8   NS          320 non-null    float64\n",
      " 9   MHG         320 non-null    float64\n",
      " 10  GY          320 non-null    float64\n",
      "dtypes: float64(8), int64(2), object(1)\n",
      "memory usage: 27.6+ KB\n"
     ]
    }
   ],
   "source": [
    "X.info()"
   ]
  },
  {
   "cell_type": "markdown",
   "metadata": {},
   "source": [
    "**Data cleaning**"
   ]
  },
  {
   "cell_type": "markdown",
   "metadata": {},
   "source": [
    "Confirmation that there are no null values in the dataset"
   ]
  },
  {
   "cell_type": "code",
   "execution_count": 13,
   "metadata": {},
   "outputs": [
    {
     "data": {
      "text/plain": [
       "Season        0\n",
       "Cultivar      0\n",
       "Repetition    0\n",
       "PH            0\n",
       "IFP           0\n",
       "NLP           0\n",
       "NGP           0\n",
       "NGL           0\n",
       "NS            0\n",
       "MHG           0\n",
       "GY            0\n",
       "dtype: int64"
      ]
     },
     "execution_count": 13,
     "metadata": {},
     "output_type": "execute_result"
    }
   ],
   "source": [
    "# isnull() returns a Boolean mask - a dataframe with the same dimensions as the initial dataframe\n",
    "# sum() trats Trues as 1 and False as 0, then sums them up\n",
    "X.isnull().sum()"
   ]
  },
  {
   "cell_type": "markdown",
   "metadata": {},
   "source": [
    "We remove duplicate rows, if any."
   ]
  },
  {
   "cell_type": "code",
   "execution_count": 19,
   "metadata": {},
   "outputs": [],
   "source": [
    "X = X.drop_duplicates()\n",
    "\n",
    "# reset the index after removing duplicates\n",
    "X = X.reset_index(drop=True)"
   ]
  },
  {
   "cell_type": "markdown",
   "metadata": {},
   "source": [
    "There is no ambiguous column - column with data type *object* - except for the \"Cultivar\" column. We check the type of each elements and count the number of occurences for each type we find. We find that all values are string values. pandas treats them as objects (superclass) for efficiency."
   ]
  },
  {
   "cell_type": "markdown",
   "metadata": {},
   "source": [
    "As a double check, we see that all 320 values in the \"Cultivar\" column are strings."
   ]
  },
  {
   "cell_type": "code",
   "execution_count": 34,
   "metadata": {},
   "outputs": [
    {
     "data": {
      "text/plain": [
       "Cultivar\n",
       "<class 'str'>    320\n",
       "Name: count, dtype: int64"
      ]
     },
     "execution_count": 34,
     "metadata": {},
     "output_type": "execute_result"
    }
   ],
   "source": [
    "X['Cultivar'].apply(type).value_counts()"
   ]
  },
  {
   "cell_type": "code",
   "execution_count": 35,
   "metadata": {},
   "outputs": [
    {
     "data": {
      "text/plain": [
       "320"
      ]
     },
     "execution_count": 35,
     "metadata": {},
     "output_type": "execute_result"
    }
   ],
   "source": [
    "len(X[\"Cultivar\"])"
   ]
  },
  {
   "cell_type": "code",
   "execution_count": 42,
   "metadata": {},
   "outputs": [],
   "source": [
    "def outliers_for_column(df, column, k):\n",
    "    # calculate Q1 (25th percentile) and Q3 (75th percentile)\n",
    "    Q1 = df[column].quantile(0.25)\n",
    "    Q3 = df[column].quantile(0.75)\n",
    "\n",
    "    # calculate IQR\n",
    "    IQR = Q3 - Q1\n",
    "\n",
    "    # define lower and upper bounds\n",
    "    lower_bound = Q1 - k * IQR\n",
    "    upper_bound = Q3 + k * IQR\n",
    "\n",
    "    # identify outliers\n",
    "    outliers = df[(df[column] < lower_bound) | (df[column] > upper_bound)][column]\n",
    "\n",
    "    return outliers"
   ]
  },
  {
   "cell_type": "code",
   "execution_count": 47,
   "metadata": {},
   "outputs": [
    {
     "data": {
      "text/plain": [
       "Series([], Name: MHG, dtype: float64)"
      ]
     },
     "execution_count": 47,
     "metadata": {},
     "output_type": "execute_result"
    }
   ],
   "source": [
    "outliers_for_column(X, 'MHG', 1.5)"
   ]
  },
  {
   "cell_type": "markdown",
   "metadata": {},
   "source": [
    "As per the documentation of the [<span style=\"color:light blue; font-weight:bold;\">seaborn.boxplot</span>](https://seaborn.pydata.org/generated/seaborn.boxplot.html) method, the whiskers in a box plot is by default computed with parameter whis=1.5, i.e. the k in the function I defined above. It is called Tukey's method. The larger the k parameter, the wider the intervals of whiskers."
   ]
  },
  {
   "cell_type": "markdown",
   "metadata": {},
   "source": [
    "I create a boxplot for all numerical values. The 'GY' column has a substantially larger range than the rest of the variables, therefore I display the boxplot for this column separately. "
   ]
  },
  {
   "cell_type": "code",
   "execution_count": 50,
   "metadata": {},
   "outputs": [
    {
     "data": {
      "image/png": "[encoded data removed]",
      "text/plain": [
       "<Figure size 800x600 with 1 Axes>"
      ]
     },
     "metadata": {},
     "output_type": "display_data"
    }
   ],
   "source": [
    "plt.figure(figsize=(8, 6))\n",
    "sns.boxplot(x=X['GY'])\n",
    "plt.title('Box Plot of GY')\n",
    "plt.xlabel('GY')\n",
    "plt.show()"
   ]
  },
  {
   "cell_type": "code",
   "execution_count": 53,
   "metadata": {},
   "outputs": [
    {
     "data": {
      "image/png": "[encoded data removed]",
      "text/plain": [
       "<Figure size 1000x600 with 1 Axes>"
      ]
     },
     "metadata": {},
     "output_type": "display_data"
    }
   ],
   "source": [
    "selected_columns = ['PH', 'IFP', 'NLP', 'NGP', 'NGL', 'NS', 'MHG']\n",
    "subset_X = X[selected_columns]\n",
    "\n",
    "# Melt the subset DataFrame to convert it to long format\n",
    "melted_X = pd.melt(subset_X)\n",
    "\n",
    "# Create a box plot for the selected columns\n",
    "plt.figure(figsize=(10, 6))\n",
    "sns.boxplot(x='variable', y='value', data=melted_X)\n",
    "plt.xticks(rotation=45)\n",
    "plt.title('Boxplot of Selected Columns')\n",
    "plt.xlabel('Column')\n",
    "plt.ylabel('Value')\n",
    "plt.show()"
   ]
  },
  {
   "cell_type": "markdown",
   "metadata": {},
   "source": [
    "Outliers are points below the whiskers of the boxplots. As we can see, there are a few outliers for some variables. We will keep that in mind for later, when we will possibly treat them (we may choose to remove them if that improves accuracy in some models or transform them or not do anything, because they may indicate some rare conditions which can be of interest and some ML algorithms may manage them effectively)"
   ]
  },
  {
   "cell_type": "markdown",
   "metadata": {},
   "source": [
    "It is good practice to standardize/normalize the features considered before feeding them to any ML model. As we saw previously, some variables may have a different range than others. Some ML algorithms are sensitive to the scale of  the features. Features with larger scales can dominate the optimization process. This leads to biased parameter estimates."
   ]
  },
  {
   "cell_type": "code",
   "execution_count": null,
   "metadata": {},
   "outputs": [],
   "source": []
  },
  {
   "cell_type": "code",
   "execution_count": null,
   "metadata": {},
   "outputs": [],
   "source": []
  },
  {
   "cell_type": "code",
   "execution_count": null,
   "metadata": {},
   "outputs": [],
   "source": []
  },
  {
   "cell_type": "code",
   "execution_count": null,
   "metadata": {},
   "outputs": [],
   "source": []
  },
  {
   "cell_type": "code",
   "execution_count": null,
   "metadata": {},
   "outputs": [],
   "source": []
  },
  {
   "cell_type": "code",
   "execution_count": null,
   "metadata": {},
   "outputs": [],
   "source": []
  },
  {
   "cell_type": "code",
   "execution_count": null,
   "metadata": {},
   "outputs": [],
   "source": []
  }
 ],
 "metadata": {
  "kernelspec": {
   "display_name": "venv",
   "language": "python",
   "name": "python3"
  },
  "language_info": {
   "codemirror_mode": {
    "name": "ipython",
    "version": 3
   },
   "file_extension": ".py",
   "mimetype": "text/x-python",
   "name": "python",
   "nbconvert_exporter": "python",
   "pygments_lexer": "ipython3",
   "version": "3.10.6"
  }
 },
 "nbformat": 4,
 "nbformat_minor": 2
}
